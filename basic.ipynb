{
 "cells": [
  {
   "cell_type": "code",
   "execution_count": 1,
   "metadata": {},
   "outputs": [
    {
     "name": "stdout",
     "output_type": "stream",
     "text": [
      "R.i.t.i.k. .K.u.m.a.w.a.t\n"
     ]
    }
   ],
   "source": [
    "# str \n",
    "# print('jai shree ganesh')\n",
    "name = \"Ritik Kumawat\"\n",
    "# print(name[1:3])\n",
    "# print(name.replace(\"Ritik\",\"Govind\"))\n",
    "# print(len(name))\n",
    "# print(name.count(' '))\n",
    "# print(name.join('hello'))\n",
    "name3 = \"hello\"\n",
    "# name4 = name+name3\n",
    "# print(name4)\n",
    "nmae = \".\".join(name)\n",
    "print(nmae)"
   ]
  },
  {
   "cell_type": "code",
   "execution_count": 23,
   "metadata": {},
   "outputs": [
    {
     "name": "stdout",
     "output_type": "stream",
     "text": [
      "<class 'list'>\n"
     ]
    },
    {
     "data": {
      "text/plain": [
       "'hemant'"
      ]
     },
     "execution_count": 23,
     "metadata": {},
     "output_type": "execute_result"
    }
   ],
   "source": [
    "\n",
    "# list\n",
    "# set\n",
    "\n",
    "\n",
    "### list \n",
    "lst = [1,2,5,8,78,10]\n",
    "lst\n",
    "lst[0:4]\n",
    "lst.count(1)\n",
    "lst.clear()\n",
    "print(type(lst))\n",
    "lst = [1,5,4,56,87]\n",
    "lst\n",
    "# print(lst.sort())\n",
    "lst.append(45)\n",
    "lst.insert(78,45)\n",
    "lst # lst are allow duplicated value \n",
    "# sliceing \n",
    "# indexing \n",
    "name = ['hemant','ritik','kavita']\n",
    "name\n",
    "name[0]\n"
   ]
  },
  {
   "cell_type": "code",
   "execution_count": 30,
   "metadata": {},
   "outputs": [
    {
     "data": {
      "text/plain": [
       "('raju', 12)"
      ]
     },
     "execution_count": 30,
     "metadata": {},
     "output_type": "execute_result"
    }
   ],
   "source": [
    "# tuple \n",
    "tpl = ('raju',12,45,'rohit')\n",
    "tpl.count('raju')\n",
    "# store a collection of ordered items. \n",
    "#  immutable \n",
    "# Once a tuple is created, its elements cannot be changed, added, or removed.\n",
    "# Ordered: Tuples maintain the order of elements. The first element added is the first element in the tuple, the second element is the second, and so on.\n",
    "# Immutable: After a tuple is created, its size and contents cannot be altered. This immutability makes tuples hashable, meaning they can be used as keys in dictionaries or stored in sets.\n",
    "# Heterogeneous: Tuples can contain elements of different types, including integers, strings, lists, and even other tuples.\n",
    "\n",
    "\n",
    "\n",
    "\n",
    "\n",
    "\n"
   ]
  },
  {
   "cell_type": "markdown",
   "metadata": {},
   "source": [
    "# Dict\n",
    "* mutable data structures that store collections of key-value pairs. \n",
    " \n",
    "##### Characteristics of Dictionaries\n",
    "* Key-Value Pairs: A dictionary consists of key-value pairs, where each key is unique, and each key maps to exactly one value.\n",
    "* Unordered: Prior to Python 3.7, dictionaries were unordered collections. From Python 3.7 onwards, dictionaries maintain the insertion order of keys.\n",
    "* Mutable: Dictionaries are mutable, meaning you can change, add, or remove key-value pairs after the dictionary is created.\n",
    "* Dynamic: Dictionaries can grow and shrink as needed, allowing for dynamic adjustments to the data they store.\n",
    "* Hashable Keys: Keys must be of a hashable type, meaning they must be immutable types like strings, numbers, or tuples containing immutable elements."
   ]
  },
  {
   "cell_type": "code",
   "execution_count": null,
   "metadata": {},
   "outputs": [],
   "source": []
  }
 ],
 "metadata": {
  "kernelspec": {
   "display_name": "Python 3",
   "language": "python",
   "name": "python3"
  },
  "language_info": {
   "codemirror_mode": {
    "name": "ipython",
    "version": 3
   },
   "file_extension": ".py",
   "mimetype": "text/x-python",
   "name": "python",
   "nbconvert_exporter": "python",
   "pygments_lexer": "ipython3",
   "version": "3.12.3"
  }
 },
 "nbformat": 4,
 "nbformat_minor": 2
}
