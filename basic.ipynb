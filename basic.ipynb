{
 "cells": [
  {
   "cell_type": "code",
   "execution_count": 1,
   "metadata": {},
   "outputs": [
    {
     "name": "stdout",
     "output_type": "stream",
     "text": [
      "R.i.t.i.k. .K.u.m.a.w.a.t\n"
     ]
    }
   ],
   "source": [
    "# str \n",
    "# print('jai shree ganesh')\n",
    "name = \"Ritik Kumawat\"\n",
    "# print(name[1:3])\n",
    "# print(name.replace(\"Ritik\",\"Govind\"))\n",
    "# print(len(name))\n",
    "# print(name.count(' '))\n",
    "# print(name.join('hello'))\n",
    "name3 = \"hello\"\n",
    "# name4 = name+name3\n",
    "# print(name4)\n",
    "nmae = \".\".join(name)\n",
    "print(nmae)"
   ]
  },
  {
   "cell_type": "code",
   "execution_count": 2,
   "metadata": {},
   "outputs": [
    {
     "data": {
      "text/plain": [
       "[1, 2, 5, 8, 78, 10]"
      ]
     },
     "execution_count": 2,
     "metadata": {},
     "output_type": "execute_result"
    }
   ],
   "source": [
    "\n",
    "# list\n",
    "# tuple \n",
    "# dict \n",
    "# set\n",
    "\n",
    "\n",
    "### list \n",
    "lst = [1,2,5,8,78,10]\n",
    "lst\n",
    "\n"
   ]
  },
  {
   "cell_type": "code",
   "execution_count": 22,
   "metadata": {},
   "outputs": [
    {
     "name": "stdout",
     "output_type": "stream",
     "text": [
      "<class 'list'>\n"
     ]
    },
    {
     "data": {
      "text/plain": [
       "'hemant'"
      ]
     },
     "execution_count": 22,
     "metadata": {},
     "output_type": "execute_result"
    }
   ],
   "source": [
    "lst[0:4]\n",
    "lst.count(1)\n",
    "lst.clear()\n",
    "print(type(lst))\n",
    "lst = [1,5,4,56,87]\n",
    "lst\n",
    "# print(lst.sort())\n",
    "lst.append(45)\n",
    "lst.insert(78,45)\n",
    "lst # lst are allow duplicated value \n",
    "# sliceing \n",
    "# indexing \n",
    "name = ['hemant','ritik','kavita']\n",
    "name\n",
    "name[0]\n",
    "\n"
   ]
  },
  {
   "cell_type": "code",
   "execution_count": null,
   "metadata": {},
   "outputs": [],
   "source": []
  }
 ],
 "metadata": {
  "kernelspec": {
   "display_name": "Python 3",
   "language": "python",
   "name": "python3"
  },
  "language_info": {
   "codemirror_mode": {
    "name": "ipython",
    "version": 3
   },
   "file_extension": ".py",
   "mimetype": "text/x-python",
   "name": "python",
   "nbconvert_exporter": "python",
   "pygments_lexer": "ipython3",
   "version": "3.12.3"
  }
 },
 "nbformat": 4,
 "nbformat_minor": 2
}
