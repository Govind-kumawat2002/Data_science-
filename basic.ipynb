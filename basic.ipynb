{
 "cells": [
  {
   "cell_type": "code",
   "execution_count": 2,
   "metadata": {},
   "outputs": [
    {
     "name": "stdout",
     "output_type": "stream",
     "text": [
      "R.i.t.i.k. .K.u.m.a.w.a.t\n"
     ]
    }
   ],
   "source": [
    "# str \n",
    "# print('jai shree ganesh')\n",
    "name = \"Ritik Kumawat\"\n",
    "# print(name[1:3])\n",
    "# print(name.replace(\"Ritik\",\"Govind\"))\n",
    "# print(len(name))\n",
    "# print(name.count(' '))\n",
    "# print(name.join('hello'))\n",
    "name3 = \"hello\"\n",
    "# name4 = name+name3\n",
    "# print(name4)\n",
    "nmae = \".\".join(name)\n",
    "print(nmae)"
   ]
  },
  {
   "cell_type": "code",
   "execution_count": 3,
   "metadata": {},
   "outputs": [
    {
     "name": "stdout",
     "output_type": "stream",
     "text": [
      "<class 'list'>\n"
     ]
    },
    {
     "data": {
      "text/plain": [
       "'hemant'"
      ]
     },
     "execution_count": 3,
     "metadata": {},
     "output_type": "execute_result"
    }
   ],
   "source": [
    "\n",
    "# list\n",
    "# set\n",
    "\n",
    "\n",
    "### list \n",
    "lst = [1,2,5,8,78,10]\n",
    "lst\n",
    "lst[0:4]\n",
    "lst.count(1)\n",
    "lst.clear()\n",
    "print(type(lst))\n",
    "lst = [1,5,4,56,87]\n",
    "lst\n",
    "# print(lst.sort())\n",
    "lst.append(45)\n",
    "lst.insert(78,45)\n",
    "lst # lst are allow duplicated value \n",
    "# sliceing \n",
    "# indexing \n",
    "name = ['hemant','ritik','kavita']\n",
    "name\n",
    "name[0]\n"
   ]
  },
  {
   "cell_type": "markdown",
   "metadata": {},
   "source": [
    "# Tuple\n",
    "* Store a collection of ordered items. \n",
    "* Immutable \n",
    "* Once a tuple is created, its elements cannot be changed, added, or removed.\n",
    "* Ordered: Tuples maintain the order of elements. The first element added is the first element in the tuple, the second element is the second, and so on.\n",
    "* Immutable: After a tuple is created, its size and contents cannot be altered. This immutability makes tuples hashable, meaning they can be used as keys in dictionaries or stored in sets.\n",
    "* Heterogeneous: Tuples can contain elements of different types, including integers, strings, lists, and even other tuples.\n",
    "\n",
    "\n",
    "\n"
   ]
  },
  {
   "cell_type": "code",
   "execution_count": 4,
   "metadata": {},
   "outputs": [
    {
     "name": "stdout",
     "output_type": "stream",
     "text": [
      "<class 'tuple'>\n"
     ]
    }
   ],
   "source": [
    "tpl = ('raju',12,45,'rohit')\n",
    "tpl.count('raju')\n",
    "tpl[0]\n",
    "print(type(tpl))\n",
    "\n",
    "\n",
    "\n",
    "\n",
    "\n",
    "\n",
    "\n"
   ]
  },
  {
   "cell_type": "markdown",
   "metadata": {},
   "source": [
    "# Dict\n",
    "* mutable data structures that store collections of key-value pairs. \n",
    " \n",
    "##### Characteristics of Dictionaries\n",
    "* Key-Value Pairs: A dictionary consists of key-value pairs, where each key is unique, and each key maps to exactly one value.\n",
    "* Unordered: Prior to Python 3.7, dictionaries were unordered collections. From Python 3.7 onwards, dictionaries maintain the insertion order of keys.\n",
    "* Mutable: Dictionaries are mutable, meaning you can change, add, or remove key-value pairs after the dictionary is created.\n",
    "* Dynamic: Dictionaries can grow and shrink as needed, allowing for dynamic adjustments to the data they store.\n",
    "* Hashable Keys: Keys must be of a hashable type, meaning they must be immutable types like strings, numbers, or tuples containing immutable elements."
   ]
  },
  {
   "cell_type": "code",
   "execution_count": 5,
   "metadata": {},
   "outputs": [
    {
     "name": "stdout",
     "output_type": "stream",
     "text": [
      "<class 'dict'>\n"
     ]
    },
    {
     "data": {
      "text/plain": [
       "{'roll_no': 21}"
      ]
     },
     "execution_count": 5,
     "metadata": {},
     "output_type": "execute_result"
    }
   ],
   "source": [
    "hii = {\"name\":\"govind\",\"roll_no\":21}\n",
    "print(type(hii))\n",
    "hii.values()\n",
    "hii.keys()\n",
    "hii['roll_no']\n",
    "hii.items()\n",
    "hii.pop\n",
    "hii.pop('name','govind')\n",
    "hii.update()\n",
    "hii\n"
   ]
  },
  {
   "cell_type": "code",
   "execution_count": 6,
   "metadata": {},
   "outputs": [
    {
     "name": "stdout",
     "output_type": "stream",
     "text": [
      "{'roll_no': 21}\n"
     ]
    }
   ],
   "source": [
    "print(hii)"
   ]
  },
  {
   "cell_type": "markdown",
   "metadata": {},
   "source": [
    "# Condition\n",
    "if else and elif \n",
    " condition "
   ]
  },
  {
   "cell_type": "code",
   "execution_count": 15,
   "metadata": {},
   "outputs": [
    {
     "name": "stdout",
     "output_type": "stream",
     "text": [
      "you are divide  16\n"
     ]
    }
   ],
   "source": [
    "num1 = int(input(\"enter a number1\")) \n",
    "num2 = int(input(\"enter a number2\"))\n",
    "result = num1+num2\n",
    "if num1>num2:\n",
    "    print(\"yeah i am right \")\n",
    "else:\n",
    "    print(\"you are divide \",result) \n"
   ]
  },
  {
   "cell_type": "markdown",
   "metadata": {},
   "source": [
    "# looping\n",
    "for &  while "
   ]
  },
  {
   "cell_type": "code",
   "execution_count": 22,
   "metadata": {},
   "outputs": [
    {
     "name": "stdout",
     "output_type": "stream",
     "text": [
      "1\n",
      "4\n",
      "6\n",
      "8\n"
     ]
    }
   ],
   "source": [
    "lst = [1,4,6,8]\n",
    "for i in lst:\n",
    "    print(i)\n",
    "\n",
    "    "
   ]
  },
  {
   "cell_type": "code",
   "execution_count": 23,
   "metadata": {},
   "outputs": [
    {
     "name": "stdout",
     "output_type": "stream",
     "text": [
      "name\n",
      "33\n",
      "455\n",
      "harii\n"
     ]
    }
   ],
   "source": [
    "tpl = (\"name\",33,455,\"harii\")\n",
    "for i in tpl:\n",
    "    print(i)"
   ]
  },
  {
   "cell_type": "code",
   "execution_count": 24,
   "metadata": {},
   "outputs": [
    {
     "name": "stdout",
     "output_type": "stream",
     "text": [
      "1\n",
      "2\n",
      "3\n",
      "4\n",
      "5\n",
      "6\n",
      "7\n",
      "8\n",
      "9\n",
      "10\n",
      "11\n"
     ]
    }
   ],
   "source": [
    "for i in range(1,12):\n",
    "    print(i)"
   ]
  },
  {
   "cell_type": "code",
   "execution_count": 25,
   "metadata": {},
   "outputs": [
    {
     "name": "stdout",
     "output_type": "stream",
     "text": [
      "0\n",
      "1\n",
      "2\n",
      "3\n",
      "4\n",
      "5\n",
      "6\n",
      "7\n",
      "8\n",
      "9\n",
      "10\n",
      "11\n",
      "12\n",
      "13\n",
      "14\n",
      "15\n",
      "16\n",
      "17\n",
      "18\n",
      "19\n"
     ]
    }
   ],
   "source": [
    "i = 0\n",
    "while i<20:\n",
    "    print(i)\n",
    "    i+= 1"
   ]
  },
  {
   "cell_type": "code",
   "execution_count": null,
   "metadata": {},
   "outputs": [],
   "source": []
  }
 ],
 "metadata": {
  "kernelspec": {
   "display_name": "Python 3",
   "language": "python",
   "name": "python3"
  },
  "language_info": {
   "codemirror_mode": {
    "name": "ipython",
    "version": 3
   },
   "file_extension": ".py",
   "mimetype": "text/x-python",
   "name": "python",
   "nbconvert_exporter": "python",
   "pygments_lexer": "ipython3",
   "version": "3.12.3"
  }
 },
 "nbformat": 4,
 "nbformat_minor": 2
}
